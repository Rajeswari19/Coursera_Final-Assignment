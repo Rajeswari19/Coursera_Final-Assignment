{
    "cells": [
        {
            "metadata": {
                "collapsed": true
            },
            "cell_type": "markdown",
            "source": "# Data Science Coursera Capstone"
        },
        {
            "metadata": {},
            "cell_type": "markdown",
            "source": "###### This notebook is to complete the IBM Data Science Coursera Capstone project"
        },
        {
            "metadata": {},
            "cell_type": "code",
            "source": "import pandas as pd\nimport numpy as np",
            "execution_count": 9,
            "outputs": []
        },
        {
            "metadata": {},
            "cell_type": "code",
            "source": "print('Hello Capstone Project Course!')",
            "execution_count": 10,
            "outputs": [
                {
                    "output_type": "stream",
                    "text": "Hello Capstone Project Course!\n",
                    "name": "stdout"
                }
            ]
        },
        {
            "metadata": {},
            "cell_type": "markdown",
            "source": "<a>https://github.com/Rajeswari19/Coursera_Final-Assignment/blob/master/Capstone_Coursera_DS_IBM.ipynb</a>"
        },
        {
            "metadata": {},
            "cell_type": "markdown",
            "source": "<a>https://eu-gb.dataplatform.cloud.ibm.com/analytics/notebooks/v2/29508710-3f1f-483f-ba46-f900641fe085/view?access_token=39297375a9778be5463d08c583bf88c740cf57d77b258b9f7a2c302a07e03f59</a>"
        },
        {
            "metadata": {},
            "cell_type": "code",
            "source": "",
            "execution_count": null,
            "outputs": []
        }
    ],
    "metadata": {
        "kernelspec": {
            "name": "python3",
            "display_name": "Python 3.7",
            "language": "python"
        },
        "language_info": {
            "name": "python",
            "version": "3.7.10",
            "mimetype": "text/x-python",
            "codemirror_mode": {
                "name": "ipython",
                "version": 3
            },
            "pygments_lexer": "ipython3",
            "nbconvert_exporter": "python",
            "file_extension": ".py"
        }
    },
    "nbformat": 4,
    "nbformat_minor": 1
}