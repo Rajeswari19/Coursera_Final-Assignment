{
    "cells": [
        {
            "metadata": {
                "collapsed": true
            },
            "cell_type": "markdown",
            "source": "# MUMBAI -The Commercial City to Excel the Opportunity"
        },
        {
            "metadata": {},
            "cell_type": "markdown",
            "source": "### Introduction:"
        },
        {
            "metadata": {},
            "cell_type": "markdown",
            "source": "Mumbai is the commercial capital of India. It is also known as the city that never sleeps.\nMumbai is the perfect blend of culture, customs, and lifestyles. Mumbai is India\u2019s most\ncosmopolitan city, its financial powerhouse, and the nerve centre of India\u2019s fashion industry.\nMumbai is also dotted with plenty of architectural landmarks from the Victorian era and the\ndays of Raj. Mumbai is also the birthplace of Indian Cinema.\nLocated on Maharashtra\u2019s coast, Mumbai is India\u2019s most-populous city, and it is one of the\nlargest and most densely populated urban areas in the world. Mumbai developed a highly\ndiversified infrastructure. \nIt suffers, however, from some of the perennial problems of many large expanding industrial\ncities: air and water pollution, widespread areas of substandard housing, and overcrowding.\nWith its diverse society, comes diverse infrastructure which decides the quality of living. There\nare many infrastructures in Mumbai, each belonging to different categories like Drinking Water?\nPlant, Waste Water/ Sewage, Hospitals, Schools, Colleges, Railway Network, Electricity Power\nPlants, Telecommunication Support, Bank, Shopping malls, Supermarket, Gas Station, Hotels,\nPolice Station, Caf\u00e9, medical shops, grocery shops, theatre, etc. One of the main problems,\nwhen one moves to a new city, is where to find a good area to build and grow prosperously."
        },
        {
            "metadata": {},
            "cell_type": "markdown",
            "source": "### Business Problem:"
        },
        {
            "metadata": {},
            "cell_type": "markdown",
            "source": "The questions I aim to answer in this project are the following:\n1. List and visualize all major parts of Mumbai City with top existing infrastructure.\n2. What are the best locations in Mumbai as per infrastructure?\n3. Which areas have the potential for the development of infrastructure of different kinds?\n4. Which all areas lack the infrastructure facilities?\n5. What is the best place to stay within a city for all vital infrastructure facilities?\n"
        },
        {
            "metadata": {},
            "cell_type": "markdown",
            "source": "### Target Audience:"
        },
        {
            "metadata": {},
            "cell_type": "markdown",
            "source": "The purpose of this project is to help people in exploring better facilities around them\nneighbourhood. It will help people making a smart and efficient decision on selecting great\nneighbourhoods out of numbers of other postal areas in Mumbai, India.\nLots of people are migrating from various states of India and needed lots of research for good\nhousing prices, new business, and reputed professional places for their children. This project is\nfor those people who are looking for better neighbourhoods and businesses.\nIt will help people to get the awareness of the area and neighbourhood before moving to a new\ncity, state, country, or place for their work or to start a new fresh life.\n\n"
        },
        {
            "metadata": {},
            "cell_type": "markdown",
            "source": "### Data Description:"
        },
        {
            "metadata": {},
            "cell_type": "markdown",
            "source": "Mumbai City's demographics show that it is a large and ethnically diverse metropolis. With its\ndiverse society, comes diverse infrastructure. There are many different kinds of infrastructure\nin Mumbai City, each belonging to different categories like Hospitals, Schools, Colleges, Hotels,\netc.\nFor this project we need the following data:\nMumbai Pin code (Scraped from web source)\n\u2022\tData source: https://mumbai7.com/postal-codes-in-mumbai/\n\u2022\tDescription: Contain a list of pin codes, postal office names, city which can be\nused to discover all postal office of Mumbai.\nMumbai City data contain list pin codes, postal office names, city along with them\nlatitude and longitude.\n\u2022\tData Source: https://mumbai7.com/postal-codes-in-mumbai/\n\u2022\tDescription: This data set contains the required information. And we will use this data set to explore various neighbourhoods of Mumbai City.\nDifferent kinds of infrastructures in each neighbourhood of Mumbai City.\n\u2022\tData source: Foursquare API\n\u2022\tDescription: By using this API we will get all the venues in each postal office. We can filter these venues to get different infrastructures and venues.\nGeoSpace data\n\u2022\tData source : https://github.com/geospace-code/pymap3d\n\u2022\tDescription: By using this geospace data, we will get the latitude and longitude coordinates of the postal office of Mumbai.\n\nUsing this data will allow exploration and examination to answer the questions. This is a project that will make use of many data science skills, from web scraping (mumbai7.com), working with API (Foursquare), data cleaning, data wrangling and map visualization (Folium) and to machine learning (K-means clustering)\n"
        },
        {
            "metadata": {},
            "cell_type": "code",
            "source": "",
            "execution_count": null,
            "outputs": []
        }
    ],
    "metadata": {
        "kernelspec": {
            "name": "python3",
            "display_name": "Python 3.7",
            "language": "python"
        },
        "language_info": {
            "name": "python",
            "version": "3.7.10",
            "mimetype": "text/x-python",
            "codemirror_mode": {
                "name": "ipython",
                "version": 3
            },
            "pygments_lexer": "ipython3",
            "nbconvert_exporter": "python",
            "file_extension": ".py"
        }
    },
    "nbformat": 4,
    "nbformat_minor": 1
}